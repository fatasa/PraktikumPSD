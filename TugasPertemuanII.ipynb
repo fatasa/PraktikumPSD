{
 "cells": [
  {
   "cell_type": "markdown",
   "id": "a78b7ea3",
   "metadata": {},
   "source": [
    "STUDI KASUS:\n",
    "Buatlah 5 baris tabel dengan kolom nomor, nama, usia, berat badan dan tanggal. Kolom nomor dan tanggal default, kolom nama, usia dan berat badan diisi urut antara 20kg-60kg.\n",
    "Tipe data yang digunakan adalah int untuk nomor dan usia, string untuk nama, date untuk tanggal serta float untuk berat badan.  \n",
    "Lakukan seleksi column untuk menampilkan column dengan tipe data Float, lalu tampilkan pernyataan True untuk berat badan dibawah 50, dan false untuk berat badan diatas 50kg."
   ]
  },
  {
   "cell_type": "code",
   "execution_count": 1,
   "id": "f948b389",
   "metadata": {},
   "outputs": [],
   "source": [
    "#import modules\n",
    "\n",
    "import pandas as pd\n",
    "import numpy as np"
   ]
  },
  {
   "cell_type": "code",
   "execution_count": 6,
   "id": "2b11a410",
   "metadata": {},
   "outputs": [
    {
     "data": {
      "text/html": [
       "<div>\n",
       "<style scoped>\n",
       "    .dataframe tbody tr th:only-of-type {\n",
       "        vertical-align: middle;\n",
       "    }\n",
       "\n",
       "    .dataframe tbody tr th {\n",
       "        vertical-align: top;\n",
       "    }\n",
       "\n",
       "    .dataframe thead th {\n",
       "        text-align: right;\n",
       "    }\n",
       "</style>\n",
       "<table border=\"1\" class=\"dataframe\">\n",
       "  <thead>\n",
       "    <tr style=\"text-align: right;\">\n",
       "      <th></th>\n",
       "      <th>nama</th>\n",
       "      <th>usia</th>\n",
       "      <th>berat badan</th>\n",
       "      <th>tanggal</th>\n",
       "    </tr>\n",
       "  </thead>\n",
       "  <tbody>\n",
       "    <tr>\n",
       "      <th>0</th>\n",
       "      <td>Aliyah</td>\n",
       "      <td>19</td>\n",
       "      <td>20</td>\n",
       "      <td>2000-12-31</td>\n",
       "    </tr>\n",
       "    <tr>\n",
       "      <th>1</th>\n",
       "      <td>Binta</td>\n",
       "      <td>20</td>\n",
       "      <td>30</td>\n",
       "      <td>2001-12-31</td>\n",
       "    </tr>\n",
       "    <tr>\n",
       "      <th>2</th>\n",
       "      <td>Cecil</td>\n",
       "      <td>21</td>\n",
       "      <td>40</td>\n",
       "      <td>2002-12-31</td>\n",
       "    </tr>\n",
       "    <tr>\n",
       "      <th>3</th>\n",
       "      <td>Diandra</td>\n",
       "      <td>22</td>\n",
       "      <td>50</td>\n",
       "      <td>2003-12-31</td>\n",
       "    </tr>\n",
       "    <tr>\n",
       "      <th>4</th>\n",
       "      <td>Emma</td>\n",
       "      <td>23</td>\n",
       "      <td>60</td>\n",
       "      <td>2004-12-31</td>\n",
       "    </tr>\n",
       "  </tbody>\n",
       "</table>\n",
       "</div>"
      ],
      "text/plain": [
       "      nama usia berat badan    tanggal\n",
       "0   Aliyah   19          20 2000-12-31\n",
       "1    Binta   20          30 2001-12-31\n",
       "2    Cecil   21          40 2002-12-31\n",
       "3  Diandra   22          50 2003-12-31\n",
       "4     Emma   23          60 2004-12-31"
      ]
     },
     "execution_count": 6,
     "metadata": {},
     "output_type": "execute_result"
    }
   ],
   "source": [
    "n_rows = 5\n",
    "n_cols = 5\n",
    "\n",
    "data = {'berat badan': ['20','30','40','50','60'],\n",
    "        'usia': ['19','20','21','22','23'],\n",
    "        'nama': ['Aliyah','Binta','Cecil','Diandra','Emma']}\n",
    "\n",
    "df = pd.DataFrame(data)\n",
    "df\n",
    "\n",
    "df.index = pd.util.testing.makeDateIndex(n_rows, name='tanggal', freq='Y')\n",
    "df_date = df.reset_index().loc[:, ::-1]\n",
    "df_date"
   ]
  },
  {
   "cell_type": "code",
   "execution_count": 3,
   "id": "888a1a7a",
   "metadata": {},
   "outputs": [
    {
     "data": {
      "text/html": [
       "<div>\n",
       "<style scoped>\n",
       "    .dataframe tbody tr th:only-of-type {\n",
       "        vertical-align: middle;\n",
       "    }\n",
       "\n",
       "    .dataframe tbody tr th {\n",
       "        vertical-align: top;\n",
       "    }\n",
       "\n",
       "    .dataframe thead th {\n",
       "        text-align: right;\n",
       "    }\n",
       "</style>\n",
       "<table border=\"1\" class=\"dataframe\">\n",
       "  <thead>\n",
       "    <tr style=\"text-align: right;\">\n",
       "      <th></th>\n",
       "      <th>nama</th>\n",
       "      <th>usia</th>\n",
       "      <th>berat badan</th>\n",
       "      <th>tanggal</th>\n",
       "    </tr>\n",
       "  </thead>\n",
       "  <tbody>\n",
       "    <tr>\n",
       "      <th>0</th>\n",
       "      <td>Aliyah</td>\n",
       "      <td>19</td>\n",
       "      <td>20.0</td>\n",
       "      <td>2000-12-31</td>\n",
       "    </tr>\n",
       "    <tr>\n",
       "      <th>1</th>\n",
       "      <td>Binta</td>\n",
       "      <td>20</td>\n",
       "      <td>30.0</td>\n",
       "      <td>2001-12-31</td>\n",
       "    </tr>\n",
       "    <tr>\n",
       "      <th>2</th>\n",
       "      <td>Cecil</td>\n",
       "      <td>21</td>\n",
       "      <td>40.0</td>\n",
       "      <td>2002-12-31</td>\n",
       "    </tr>\n",
       "    <tr>\n",
       "      <th>3</th>\n",
       "      <td>Diandra</td>\n",
       "      <td>22</td>\n",
       "      <td>50.0</td>\n",
       "      <td>2003-12-31</td>\n",
       "    </tr>\n",
       "    <tr>\n",
       "      <th>4</th>\n",
       "      <td>Emma</td>\n",
       "      <td>23</td>\n",
       "      <td>60.0</td>\n",
       "      <td>2004-12-31</td>\n",
       "    </tr>\n",
       "  </tbody>\n",
       "</table>\n",
       "</div>"
      ],
      "text/plain": [
       "      nama  usia  berat badan    tanggal\n",
       "0   Aliyah    19         20.0 2000-12-31\n",
       "1    Binta    20         30.0 2001-12-31\n",
       "2    Cecil    21         40.0 2002-12-31\n",
       "3  Diandra    22         50.0 2003-12-31\n",
       "4     Emma    23         60.0 2004-12-31"
      ]
     },
     "execution_count": 3,
     "metadata": {},
     "output_type": "execute_result"
    }
   ],
   "source": [
    "df_x = df_date.astype({'nama': 'string','usia': 'int','berat badan': 'float'})\n",
    "df_x"
   ]
  },
  {
   "cell_type": "code",
   "execution_count": 4,
   "id": "223af7ca",
   "metadata": {},
   "outputs": [
    {
     "data": {
      "text/plain": [
       "nama                   string\n",
       "usia                    int32\n",
       "berat badan           float64\n",
       "tanggal        datetime64[ns]\n",
       "dtype: object"
      ]
     },
     "execution_count": 4,
     "metadata": {},
     "output_type": "execute_result"
    }
   ],
   "source": [
    "df_x.dtypes"
   ]
  },
  {
   "cell_type": "code",
   "execution_count": 5,
   "id": "272bc720",
   "metadata": {},
   "outputs": [
    {
     "data": {
      "text/html": [
       "<div>\n",
       "<style scoped>\n",
       "    .dataframe tbody tr th:only-of-type {\n",
       "        vertical-align: middle;\n",
       "    }\n",
       "\n",
       "    .dataframe tbody tr th {\n",
       "        vertical-align: top;\n",
       "    }\n",
       "\n",
       "    .dataframe thead th {\n",
       "        text-align: right;\n",
       "    }\n",
       "</style>\n",
       "<table border=\"1\" class=\"dataframe\">\n",
       "  <thead>\n",
       "    <tr style=\"text-align: right;\">\n",
       "      <th></th>\n",
       "      <th>nama</th>\n",
       "      <th>usia</th>\n",
       "      <th>berat badan</th>\n",
       "      <th>tanggal</th>\n",
       "    </tr>\n",
       "  </thead>\n",
       "  <tbody>\n",
       "    <tr>\n",
       "      <th>0</th>\n",
       "      <td>Aliyah</td>\n",
       "      <td>19</td>\n",
       "      <td>20.0</td>\n",
       "      <td>2000-12-31</td>\n",
       "    </tr>\n",
       "    <tr>\n",
       "      <th>1</th>\n",
       "      <td>Binta</td>\n",
       "      <td>20</td>\n",
       "      <td>30.0</td>\n",
       "      <td>2001-12-31</td>\n",
       "    </tr>\n",
       "    <tr>\n",
       "      <th>2</th>\n",
       "      <td>Cecil</td>\n",
       "      <td>21</td>\n",
       "      <td>40.0</td>\n",
       "      <td>2002-12-31</td>\n",
       "    </tr>\n",
       "  </tbody>\n",
       "</table>\n",
       "</div>"
      ],
      "text/plain": [
       "     nama  usia  berat badan    tanggal\n",
       "0  Aliyah    19         20.0 2000-12-31\n",
       "1   Binta    20         30.0 2001-12-31\n",
       "2   Cecil    21         40.0 2002-12-31"
      ]
     },
     "execution_count": 5,
     "metadata": {},
     "output_type": "execute_result"
    }
   ],
   "source": [
    "df_x.select_dtypes(include='float')\n",
    "df_x[~df_x['berat badan'].isin([50, 60])]"
   ]
  }
 ],
 "metadata": {
  "kernelspec": {
   "display_name": "Python 3 (ipykernel)",
   "language": "python",
   "name": "python3"
  },
  "language_info": {
   "codemirror_mode": {
    "name": "ipython",
    "version": 3
   },
   "file_extension": ".py",
   "mimetype": "text/x-python",
   "name": "python",
   "nbconvert_exporter": "python",
   "pygments_lexer": "ipython3",
   "version": "3.9.12"
  }
 },
 "nbformat": 4,
 "nbformat_minor": 5
}
